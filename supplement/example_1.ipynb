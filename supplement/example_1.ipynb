{
 "cells": [
  {
   "cell_type": "code",
   "execution_count": 1,
   "metadata": {},
   "outputs": [
    {
     "data": {
      "text/plain": [
       "'\\nThe WYNDOR Glass Co. problem\\n\\nMax  3 x1 + 5 x2\\ns.t.   x1        <= 4\\n            2 x2 <= 12\\n     3 x1 + 2 x2 <= 18\\n\\n       x1, x2 >= 0\\n'"
      ]
     },
     "execution_count": 1,
     "metadata": {},
     "output_type": "execute_result"
    }
   ],
   "source": [
    "# Created time: 2023_12_03\n",
    "# Created by: Chiu\n",
    "\n",
    "\"\"\"\n",
    "The WYNDOR Glass Co. problem\n",
    "\n",
    "Max  3 x1 + 5 x2\n",
    "s.t.   x1        <= 4\n",
    "            2 x2 <= 12\n",
    "     3 x1 + 2 x2 <= 18\n",
    "\n",
    "       x1, x2 >= 0\n",
    "\"\"\""
   ]
  },
  {
   "cell_type": "code",
   "execution_count": 2,
   "metadata": {},
   "outputs": [
    {
     "name": "stdout",
     "output_type": "stream",
     "text": [
      "Gurobi Optimizer version 10.0.2 build v10.0.2rc0 (mac64[arm])\n",
      "\n",
      "CPU model: Apple M1\n",
      "Thread count: 8 physical cores, 8 logical processors, using up to 8 threads\n",
      "\n",
      "Optimize a model with 3 rows, 2 columns and 4 nonzeros\n",
      "Model fingerprint: 0xc030cf3a\n",
      "Coefficient statistics:\n",
      "  Matrix range     [1e+00, 3e+00]\n",
      "  Objective range  [3e+00, 5e+00]\n",
      "  Bounds range     [0e+00, 0e+00]\n",
      "  RHS range        [4e+00, 2e+01]\n",
      "Presolve removed 2 rows and 0 columns\n",
      "Presolve time: 0.00s\n",
      "Presolved: 1 rows, 2 columns, 2 nonzeros\n",
      "\n",
      "Iteration    Objective       Primal Inf.    Dual Inf.      Time\n",
      "       0    4.5000000e+01   1.500000e+00   0.000000e+00      0s\n",
      "       1    3.6000000e+01   0.000000e+00   0.000000e+00      0s\n",
      "\n",
      "Solved in 1 iterations and 0.01 seconds (0.00 work units)\n",
      "Optimal objective  3.600000000e+01\n"
     ]
    }
   ],
   "source": [
    "# import module\n",
    "import gurobipy as gp\n",
    "from gurobipy import GRB\n",
    "\n",
    "# Create a new model\n",
    "model = gp.Model(\"example_1\")\n",
    "\n",
    "# Create variables\n",
    "x1 = model.addVar(lb=0, vtype=GRB.CONTINUOUS, name=\"x1\")\n",
    "x2 = model.addVar(lb=0, vtype=GRB.CONTINUOUS, name=\"x2\")\n",
    "\n",
    "# Set objective functions\n",
    "model.setObjective(3 * x1 + 5 * x2, GRB.MAXIMIZE)\n",
    "\n",
    "# Add constraints\n",
    "model.addConstr(x1 <= 4, 'c1')\n",
    "model.addConstr(2 * x2 <= 12, 'c2')\n",
    "model.addConstr(3 * x1 + 2 * x2 <= 18, 'c3')\n",
    "\n",
    "# Optimize the model\n",
    "model.optimize()\n",
    "\n",
    "# Create .lp file\n",
    "model.write(\"example_1.lp\")"
   ]
  },
  {
   "cell_type": "code",
   "execution_count": 3,
   "metadata": {},
   "outputs": [
    {
     "name": "stdout",
     "output_type": "stream",
     "text": [
      "Optimal solution found.\n",
      "Objective value:  36.0\n",
      "x1 =  2.0\n",
      "x2 =  6.0\n"
     ]
    }
   ],
   "source": [
    "# Print solutions\n",
    "if model.status == GRB.OPTIMAL:\n",
    "    print(\"Optimal solution found.\")\n",
    "    print(\"Objective value: \", model.objVal)\n",
    "    print(\"x1 = \", x1.x)\n",
    "    print(\"x2 = \", x2.x)\n",
    "else:\n",
    "    print(\"No solution found.\")"
   ]
  }
 ],
 "metadata": {
  "kernelspec": {
   "display_name": " /Users/pao/Library/Jupyter/kernels/env_name",
   "language": "python",
   "name": "env_name"
  },
  "language_info": {
   "codemirror_mode": {
    "name": "ipython",
    "version": 3
   },
   "file_extension": ".py",
   "mimetype": "text/x-python",
   "name": "python",
   "nbconvert_exporter": "python",
   "pygments_lexer": "ipython3",
   "version": "3.10.13"
  }
 },
 "nbformat": 4,
 "nbformat_minor": 2
}
