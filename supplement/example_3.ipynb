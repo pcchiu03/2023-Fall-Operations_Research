{
 "cells": [
  {
   "cell_type": "code",
   "execution_count": 1,
   "metadata": {},
   "outputs": [
    {
     "data": {
      "text/plain": [
       "'\\nThe WYNDOR Glass Co. problem\\n\\nMax  3 x1 + 5 x2\\ns.t.   x1        <= 4\\n            2 x2 <= 12\\n     3 x1 + 2 x2 <= 18\\n\\n       x1, x2 >= 0\\n'"
      ]
     },
     "execution_count": 1,
     "metadata": {},
     "output_type": "execute_result"
    }
   ],
   "source": [
    "# Created time: 2023_12_03\n",
    "# Created by: Chiu\n",
    "\n",
    "\"\"\"\n",
    "The WYNDOR Glass Co. problem\n",
    "\n",
    "Max  3 x1 + 5 x2\n",
    "s.t.   x1        <= 4\n",
    "            2 x2 <= 12\n",
    "     3 x1 + 2 x2 <= 18\n",
    "\n",
    "       x1, x2 >= 0\n",
    "\"\"\""
   ]
  },
  {
   "cell_type": "code",
   "execution_count": 2,
   "metadata": {},
   "outputs": [
    {
     "name": "stdout",
     "output_type": "stream",
     "text": [
      "Gurobi Optimizer version 10.0.2 build v10.0.2rc0 (mac64[arm])\n",
      "\n",
      "CPU model: Apple M1\n",
      "Thread count: 8 physical cores, 8 logical processors, using up to 8 threads\n",
      "\n",
      "Optimize a model with 3 rows, 2 columns and 4 nonzeros\n",
      "Model fingerprint: 0xc030cf3a\n",
      "Coefficient statistics:\n",
      "  Matrix range     [1e+00, 3e+00]\n",
      "  Objective range  [3e+00, 5e+00]\n",
      "  Bounds range     [0e+00, 0e+00]\n",
      "  RHS range        [4e+00, 2e+01]\n",
      "Presolve removed 2 rows and 0 columns\n",
      "Presolve time: 0.04s\n",
      "Presolved: 1 rows, 2 columns, 2 nonzeros\n",
      "\n",
      "Iteration    Objective       Primal Inf.    Dual Inf.      Time\n",
      "       0    4.5000000e+01   1.500000e+00   0.000000e+00      0s\n",
      "       1    3.6000000e+01   0.000000e+00   0.000000e+00      0s\n",
      "\n",
      "Solved in 1 iterations and 0.07 seconds (0.00 work units)\n",
      "Optimal objective  3.600000000e+01\n"
     ]
    }
   ],
   "source": [
    "# import module\n",
    "import gurobipy as gp\n",
    "from gurobipy import GRB\n",
    "import numpy as np\n",
    "\n",
    "# Create a new model\n",
    "model = gp.Model(\"example_3\")\n",
    "\n",
    "# Set parameters \n",
    "I = 2\n",
    "J = 3\n",
    "A = [3, 5]\n",
    "B = np.array([[1, 0],\n",
    "              [0, 2],\n",
    "              [3, 2]])\n",
    "C = [4, 12, 18]\n",
    "\n",
    "\n",
    "# Create variables\n",
    "x = model.addVars(I, lb=0, vtype=GRB.CONTINUOUS, name=\"x\")\n",
    "\n",
    "# Set objective functions\n",
    "model.setObjective(gp.quicksum(A[i] * x[i] for i in range(I)), GRB.MAXIMIZE)\n",
    "\n",
    "# Add constraints\n",
    "for j in range(J):\n",
    "    model.addConstr(gp.quicksum(B[j, i] * x[i] for i in range(I)) <= C[j], \"c%d\" % j)      # New!!!\n",
    "\n",
    "\n",
    "# Optimize the model\n",
    "model.optimize()\n",
    "\n",
    "# Create .lp file\n",
    "model.write(\"example_3.lp\")"
   ]
  },
  {
   "cell_type": "code",
   "execution_count": 3,
   "metadata": {},
   "outputs": [
    {
     "name": "stdout",
     "output_type": "stream",
     "text": [
      "Optimal solution found.\n",
      "Number of variables:  2\n",
      "Number of constraints:  3\n",
      "Objective value:  36.0\n",
      "x[0] = 2.0000\n",
      "x[1] = 6.0000\n"
     ]
    }
   ],
   "source": [
    "# Print solutions\n",
    "if model.status == GRB.OPTIMAL:\n",
    "    print(\"Optimal solution found.\")\n",
    "    print(\"Number of variables: \", model.numVars)\n",
    "    print(\"Number of constraints: \", model.numConstrs)\n",
    "    print(\"Objective value: \", model.objVal)\n",
    "    for v in model.getVars():\n",
    "        print(\"%s = %.4f\"%(v.varName, v.x))\n",
    "else:\n",
    "    print(\"No solution found.\")"
   ]
  }
 ],
 "metadata": {
  "kernelspec": {
   "display_name": " /Users/pao/Library/Jupyter/kernels/env_name",
   "language": "python",
   "name": "env_name"
  },
  "language_info": {
   "codemirror_mode": {
    "name": "ipython",
    "version": 3
   },
   "file_extension": ".py",
   "mimetype": "text/x-python",
   "name": "python",
   "nbconvert_exporter": "python",
   "pygments_lexer": "ipython3",
   "version": "3.10.13"
  }
 },
 "nbformat": 4,
 "nbformat_minor": 2
}
